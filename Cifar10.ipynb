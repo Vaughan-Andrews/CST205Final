{
 "cells": [
  {
   "cell_type": "code",
   "execution_count": 1,
   "metadata": {},
   "outputs": [
    {
     "name": "stdout",
     "output_type": "stream",
     "text": [
      "WARNING:tensorflow:From /home/vaughan/anaconda3/lib/python3.7/site-packages/tensorflow_core/python/compat/v2_compat.py:65: disable_resource_variables (from tensorflow.python.ops.variable_scope) is deprecated and will be removed in a future version.\n",
      "Instructions for updating:\n",
      "non-resource variables are not supported in the long term\n",
      "Num GPUs Available:  1\n"
     ]
    }
   ],
   "source": [
    " # -*- coding: utf-8 -*-\n",
    "from sklearn.model_selection import train_test_split\n",
    "import pandas as pd\n",
    "import numpy as np\n",
    "import tensorflow.compat.v1 as tf\n",
    "tf.disable_v2_behavior()\n",
    "from sklearn.preprocessing import OneHotEncoder,StandardScaler\n",
    "from sklearn.pipeline import Pipeline\n",
    "from sklearn.compose import ColumnTransformer\n",
    "import matplotlib.pyplot as plt\n",
    "from PIL import Image\n",
    "import cv2\n",
    "print(\"Num GPUs Available: \", len(tf.config.experimental.list_physical_devices('GPU')))\n",
    "plt.rcParams[\"figure.figsize\"] = (15,15)\n",
    "\n",
    "gpu_options = tf.GPUOptions(per_process_gpu_memory_fraction=0.5)\n",
    "config = tf.ConfigProto(gpu_options=gpu_options)\n",
    "config.gpu_options.allow_growth = True\n",
    "session = tf.Session(config=config)"
   ]
  },
  {
   "cell_type": "code",
   "execution_count": 2,
   "metadata": {},
   "outputs": [],
   "source": [
    "height = 32\n",
    "width = 32\n",
    "channels = 3\n",
    "n_inputs = height * width * channels\n",
    "\n",
    "conv1_fmaps = 32\n",
    "conv1_ksize = 3\n",
    "conv1_stride = 1\n",
    "conv1_pad = \"SAME\"\n",
    "\n",
    "conv2_fmaps =64\n",
    "conv2_ksize = 3\n",
    "conv2_stride = 2\n",
    "conv2_pad = \"SAME\"\n",
    "\n",
    "\n",
    "conv3_fmaps = 128\n",
    "conv3_ksize = 4\n",
    "conv3_stride = 1\n",
    "conv3_pad = \"SAME\"\n",
    "pool3_fmaps = conv2_fmaps\n",
    "\n",
    "n_fc1 = 64\n",
    "n_outputs = 10\n",
    "\n",
    "tf.reset_default_graph()\n",
    "\n",
    "\n"
   ]
  },
  {
   "cell_type": "markdown",
   "metadata": {},
   "source": []
  },
  {
   "cell_type": "code",
   "execution_count": 3,
   "metadata": {},
   "outputs": [],
   "source": [
    "\n",
    "cifar_file = \"/home/vaughan/AdvMl/Datasets AdvMl/cifar-10-batches-py/data_batch_\"\n",
    "def unpickle(file):\n",
    "    import pickle\n",
    "    with open(file, 'rb') as fo:\n",
    "        dict = pickle.load(fo, encoding='bytes')\n",
    "    return dict\n",
    "\n",
    "cf = unpickle(cifar_file + \"1\")\n",
    "m = 32\n",
    "n = 32\n",
    "offset = 0\n",
    "\n",
    "X_train = np.empty([50000,32,32,3])\n",
    "y_train = np.empty([50000])\n",
    "\n",
    "\n",
    "\n",
    "for i in range(5):\n",
    "    cf = unpickle(cifar_file + str(i+1))\n",
    "    instances = cf[b'data'].reshape(10000, 3, m, n).transpose(0,2,3,1).astype(\"uint8\")\n",
    "    labels = cf[b'labels']\n",
    "\n",
    "    for i,val in enumerate(instances):\n",
    "        X_train[offset+i,:,:,:] = val\n",
    "    y_train[offset : offset+len(labels)] = labels\n",
    "\n",
    "    offset += len(labels)\n",
    "\n",
    "cf = unpickle(\"/home/vaughan/AdvMl/Datasets AdvMl/cifar-10-batches-py/test_batch\")\n",
    "X_test = cf[b'data'].reshape(10000, 3, m, n).transpose(0,2,3,1).astype(\"uint8\")\n",
    "y_test = cf[b'labels']\n",
    "labelmap = {\n",
    "    0:\"airplane\",\n",
    "    1:\"automobile\",\n",
    "    2:\"bird\",\n",
    "    3:\"cat\",\n",
    "    4:\"deer\",\n",
    "    5:\"dog\",\n",
    "    6:\"frog\",\n",
    "    7:\"horse\",\n",
    "    8:\"ship\",\n",
    "    9:\"truck\"\n",
    "}"
   ]
  },
  {
   "cell_type": "code",
   "execution_count": 4,
   "metadata": {},
   "outputs": [
    {
     "name": "stdout",
     "output_type": "stream",
     "text": [
      "WARNING:tensorflow:From <ipython-input-4-a02e1cd5d133>:8: conv2d (from tensorflow.python.layers.convolutional) is deprecated and will be removed in a future version.\n",
      "Instructions for updating:\n",
      "Use `tf.keras.layers.Conv2D` instead.\n",
      "WARNING:tensorflow:From /home/vaughan/anaconda3/lib/python3.7/site-packages/tensorflow_core/python/layers/convolutional.py:424: Layer.apply (from tensorflow.python.keras.engine.base_layer) is deprecated and will be removed in a future version.\n",
      "Instructions for updating:\n",
      "Please use `layer.__call__` method instead.\n"
     ]
    }
   ],
   "source": [
    "with tf.name_scope(\"inputs\"):\n",
    "    X = tf.placeholder(tf.float32, shape=[None, height,width,channels], name=\"X\")\n",
    "    X_reshaped = tf.reshape(X, shape=[-1, height, width, channels])\n",
    "    y = tf.placeholder(tf.int32, shape=[None], name=\"y\")\n",
    "\n",
    "conv1 = tf.layers.conv2d(X_reshaped, filters=conv1_fmaps, kernel_size=conv1_ksize,\n",
    "                         strides=conv1_stride, padding=conv1_pad,\n",
    "                         activation=tf.nn.selu, name=\"conv1\")\n",
    "\n",
    "conv2 = tf.layers.conv2d(conv1, filters=conv2_fmaps, kernel_size=conv2_ksize,\n",
    "                         strides=conv2_stride, padding=conv2_pad,\n",
    "                         activation=tf.nn.tanh, name=\"conv2\")\n",
    "\n",
    "\n"
   ]
  },
  {
   "cell_type": "code",
   "execution_count": 5,
   "metadata": {},
   "outputs": [],
   "source": [
    "with tf.name_scope(\"pool3\"):\n",
    "    pool3 = tf.nn.max_pool(conv2, ksize=[1, 2, 2, 1], strides=[1, 2, 2, 1], padding=\"VALID\")\n",
    "    pool3_flat = tf.reshape(pool3, shape=[-1, pool3_fmaps * 8  *8])\n",
    "\n"
   ]
  },
  {
   "cell_type": "code",
   "execution_count": 6,
   "metadata": {},
   "outputs": [
    {
     "name": "stdout",
     "output_type": "stream",
     "text": [
      "WARNING:tensorflow:From <ipython-input-6-c27d9178d178>:2: dense (from tensorflow.python.layers.core) is deprecated and will be removed in a future version.\n",
      "Instructions for updating:\n",
      "Use keras.layers.Dense instead.\n"
     ]
    }
   ],
   "source": [
    "with tf.name_scope(\"fc1\"):\n",
    "    fc1 = tf.layers.dense(pool3_flat, n_fc1, activation=tf.nn.selu, name=\"fc1\")\n",
    "\n"
   ]
  },
  {
   "cell_type": "code",
   "execution_count": 7,
   "metadata": {},
   "outputs": [
    {
     "name": "stdout",
     "output_type": "stream",
     "text": [
      "(?, 10)\n"
     ]
    }
   ],
   "source": [
    "with tf.name_scope(\"output\"):\n",
    "    hidden_1 = tf.layers.dense(fc1,500,activation=tf.nn.tanh, name=\"hidden_1\")\n",
    "    hidden_2 = tf.layers.dense(hidden_1,400,activation=tf.nn.tanh, name=\"hidden_2\")\n",
    "    hidden_3 = tf.layers.dense(hidden_2,200,activation=tf.nn.tanh, name=\"hidden_3\")\n",
    "    hidden_4 = tf.layers.dense(hidden_3,200,activation=tf.nn.tanh, name=\"hidden_4\")\n",
    "    logits = tf.layers.dense(hidden_4, n_outputs, name=\"output\")\n",
    "    print(logits.get_shape())\n",
    "    Y_proba = tf.nn.softmax(logits, name=\"Y_proba\")\n",
    "\n"
   ]
  },
  {
   "cell_type": "code",
   "execution_count": 8,
   "metadata": {},
   "outputs": [],
   "source": [
    "with tf.name_scope(\"train\"):\n",
    "    xentropy = tf.nn.sparse_softmax_cross_entropy_with_logits(logits=logits, labels=y)\n",
    "    loss = tf.reduce_mean(xentropy)\n",
    "    optimizer = tf.train.AdamOptimizer()\n",
    "    training_op = optimizer.minimize(loss)\n",
    "\n"
   ]
  },
  {
   "cell_type": "code",
   "execution_count": 9,
   "metadata": {},
   "outputs": [],
   "source": [
    "with tf.name_scope(\"eval\"):\n",
    "    correct = tf.nn.in_top_k(logits, y, 1)\n",
    "    accuracy = tf.reduce_mean(tf.cast(correct, tf.float32))\n",
    "\n"
   ]
  },
  {
   "cell_type": "code",
   "execution_count": 10,
   "metadata": {},
   "outputs": [],
   "source": [
    "with tf.name_scope(\"init_and_save\"):\n",
    "    init = tf.global_variables_initializer()\n",
    "    saver = tf.train.Saver(tf.global_variables())\n"
   ]
  },
  {
   "cell_type": "code",
   "execution_count": 11,
   "metadata": {
    "scrolled": false
   },
   "outputs": [
    {
     "name": "stdout",
     "output_type": "stream",
     "text": [
      "(50000, 32, 32, 3)\n",
      "conv1:  (?, 32, 32, 32)\n",
      "conv2:  (?, 16, 16, 64)\n",
      "pool3:  (?, 8, 8, 64)\n",
      "0 Train accuracy: 0.4375 Test accuracy: 0.4391\n",
      "1 Train accuracy: 0.55965906 Test accuracy: 0.5119\n",
      "2 Train accuracy: 0.61647725 Test accuracy: 0.5632\n",
      "3 Train accuracy: 0.6363636 Test accuracy: 0.5539\n",
      "4 Train accuracy: 0.62784094 Test accuracy: 0.6033\n",
      "5 Train accuracy: 0.64204544 Test accuracy: 0.6107\n",
      "6 Train accuracy: 0.67045456 Test accuracy: 0.6235\n",
      "7 Train accuracy: 0.71590906 Test accuracy: 0.6334\n",
      "8 Train accuracy: 0.68465906 Test accuracy: 0.6448\n",
      "9 Train accuracy: 0.7755682 Test accuracy: 0.6597\n",
      "INFO:tensorflow:Restoring parameters from model\n",
      "0\n"
     ]
    }
   ],
   "source": [
    "n_epochs =10\n",
    "batch_size = 350\n",
    "def shuffle_batch(X, y, batch_size):\n",
    "    rnd_idx = np.random.permutation(len(X))\n",
    "    n_batches = len(X) // batch_size\n",
    "    for batch_idx in np.array_split(rnd_idx, n_batches):\n",
    "        X_batch, y_batch = X[batch_idx], y[batch_idx]\n",
    "        yield X_batch, y_batch\n",
    "        \n",
    "print(X_train.shape)\n",
    "print(\"conv1: \",conv1.get_shape())\n",
    "print(\"conv2: \",conv2.get_shape())\n",
    "print(\"pool3: \",pool3.get_shape())\n",
    "with tf.Session() as sess:\n",
    "    init.run()\n",
    "    for epoch in range(n_epochs):\n",
    "        for X_batch, y_batch in shuffle_batch(X_train, y_train, batch_size):\n",
    "            sess.run(training_op, feed_dict={X: X_batch, y: y_batch})\n",
    "        acc_train = accuracy.eval(feed_dict={X: X_batch, y: y_batch})\n",
    "        acc_test = accuracy.eval(feed_dict={X: X_test, y: y_test})\n",
    "        print(epoch, \"Train accuracy:\", acc_train,\"Test accuracy:\", acc_test)\n",
    "        saver.save(sess,\"model\")\n",
    "\n",
    "with tf.Session() as sess:\n",
    "    # Restore the model\n",
    "    tf_saver = tf.train.Saver()\n",
    "    tf_saver.restore(sess,\"model\")\n",
    "    \n",
    "    im = cv2.imread(\"../Python/Project/testImgs205/my3.png\")\n",
    "    im = im.reshape(1,32,32,3)\n",
    "    print(tf.argmax(Y_proba.eval(feed_dict={X:im})[0]).eval())"
   ]
  },
  {
   "cell_type": "code",
   "execution_count": null,
   "metadata": {},
   "outputs": [],
   "source": []
  },
  {
   "cell_type": "code",
   "execution_count": null,
   "metadata": {},
   "outputs": [],
   "source": []
  },
  {
   "cell_type": "code",
   "execution_count": null,
   "metadata": {},
   "outputs": [],
   "source": []
  },
  {
   "cell_type": "code",
   "execution_count": null,
   "metadata": {},
   "outputs": [],
   "source": []
  }
 ],
 "metadata": {
  "kernelspec": {
   "display_name": "Python 3",
   "language": "python",
   "name": "python3"
  },
  "language_info": {
   "codemirror_mode": {
    "name": "ipython",
    "version": 3
   },
   "file_extension": ".py",
   "mimetype": "text/x-python",
   "name": "python",
   "nbconvert_exporter": "python",
   "pygments_lexer": "ipython3",
   "version": "3.7.5"
  }
 },
 "nbformat": 4,
 "nbformat_minor": 2
}
